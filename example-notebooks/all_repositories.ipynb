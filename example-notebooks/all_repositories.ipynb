{
 "metadata": {
  "name": "",
  "signature": "sha256:d7edf60ced4d549568da849ae1760941af6e0432378fa5832cdff325109ee570"
 },
 "nbformat": 3,
 "nbformat_minor": 0,
 "worksheets": [
  {
   "cells": [
    {
     "cell_type": "heading",
     "level": 1,
     "metadata": {},
     "source": [
      "How to retrieve all of the public repositories on GitHub"
     ]
    },
    {
     "cell_type": "code",
     "collapsed": false,
     "input": [
      "import github3"
     ],
     "language": "python",
     "metadata": {},
     "outputs": [],
     "prompt_number": 1
    },
    {
     "cell_type": "code",
     "collapsed": false,
     "input": [
      "for repository in github3.all_repositories(number=50):\n",
      "    print('{0}, id: {0.id}, url: {0.html_url}'.format(repository))"
     ],
     "language": "python",
     "metadata": {},
     "outputs": [
      {
       "output_type": "stream",
       "stream": "stdout",
       "text": [
        "mojombo/grit, id: 1, url: https://github.com/mojombo/grit\n",
        "wycats/merb-core, id: 26, url: https://github.com/wycats/merb-core\n",
        "rubinius/rubinius, id: 27, url: https://github.com/rubinius/rubinius\n",
        "mojombo/god, id: 28, url: https://github.com/mojombo/god\n",
        "vanpelt/jsawesome, id: 29, url: https://github.com/vanpelt/jsawesome\n",
        "wycats/jspec, id: 31, url: https://github.com/wycats/jspec\n",
        "defunkt/exception_logger, id: 35, url: https://github.com/defunkt/exception_logger\n",
        "defunkt/ambition, id: 36, url: https://github.com/defunkt/ambition\n",
        "technoweenie/restful-authentication, id: 42, url: https://github.com/technoweenie/restful-authentication\n",
        "technoweenie/attachment_fu, id: 43, url: https://github.com/technoweenie/attachment_fu\n",
        "topfunky/bong, id: 47, url: https://github.com/topfunky/bong\n",
        "Caged/microsis, id: 48, url: https://github.com/Caged/microsis\n",
        "anotherjesse/s3, id: 52, url: https://github.com/anotherjesse/s3\n",
        "anotherjesse/taboo, id: 53, url: https://github.com/anotherjesse/taboo\n",
        "anotherjesse/foxtracs, id: 54, url: https://github.com/anotherjesse/foxtracs\n",
        "anotherjesse/fotomatic, id: 56, url: https://github.com/anotherjesse/fotomatic\n",
        "mojombo/glowstick, id: 61, url: https://github.com/mojombo/glowstick\n",
        "defunkt/starling, id: 63, url: https://github.com/defunkt/starling\n",
        "wycats/merb-more, id: 65, url: https://github.com/wycats/merb-more\n",
        "macournoyer/thin, id: 68, url: https://github.com/macournoyer/thin\n",
        "jamesgolick/resource_controller, id: 71, url: https://github.com/jamesgolick/resource_controller\n",
        "jamesgolick/markaby, id: 73, url: https://github.com/jamesgolick/markaby\n",
        "jamesgolick/enum_field, id: 74, url: https://github.com/jamesgolick/enum_field\n",
        "defunkt/subtlety, id: 75, url: https://github.com/defunkt/subtlety\n",
        "defunkt/zippy, id: 92, url: https://github.com/defunkt/zippy\n",
        "defunkt/cache_fu, id: 93, url: https://github.com/defunkt/cache_fu\n",
        "KirinDave/phosphor, id: 95, url: https://github.com/KirinDave/phosphor\n",
        "bmizerany/sinatra, id: 98, url: https://github.com/bmizerany/sinatra\n",
        "jnewland/gsa-prototype, id: 102, url: https://github.com/jnewland/gsa-prototype\n",
        "technoweenie/duplikate, id: 105, url: https://github.com/technoweenie/duplikate\n",
        "jnewland/lazy_record, id: 118, url: https://github.com/jnewland/lazy_record\n",
        "jnewland/gsa-feeds, id: 119, url: https://github.com/jnewland/gsa-feeds\n",
        "jnewland/votigoto, id: 120, url: https://github.com/jnewland/votigoto\n",
        "defunkt/mofo, id: 127, url: https://github.com/defunkt/mofo\n",
        "jnewland/xhtmlize, id: 129, url: https://github.com/jnewland/xhtmlize\n",
        "schacon/ruby-git, id: 130, url: https://github.com/schacon/ruby-git\n",
        "ezmobius/bmhsearch, id: 131, url: https://github.com/ezmobius/bmhsearch\n",
        "uggedal/mofo, id: 137, url: https://github.com/uggedal/mofo\n",
        "mmower/simply_versioned, id: 139, url: https://github.com/mmower/simply_versioned\n",
        "abhay/gchart, id: 140, url: https://github.com/abhay/gchart\n",
        "benburkert/schemr, id: 141, url: https://github.com/benburkert/schemr\n",
        "abhay/calais, id: 142, url: https://github.com/abhay/calais\n",
        "mojombo/chronic, id: 144, url: https://github.com/mojombo/chronic\n",
        "sr/git-wiki, id: 165, url: https://github.com/sr/git-wiki\n",
        "automatthew/ambitious_activeldap, id: 176, url: https://github.com/automatthew/ambitious_activeldap\n",
        "queso/signal-wiki, id: 177, url: https://github.com/queso/signal-wiki\n",
        "drnic/ruby-on-rails-tmbundle, id: 179, url: https://github.com/drnic/ruby-on-rails-tmbundle\n",
        "danwrong/low-pro-for-jquery, id: 185, url: https://github.com/danwrong/low-pro-for-jquery\n",
        "wayneeseguin/merb-core, id: 186, url: https://github.com/wayneeseguin/merb-core\n",
        "sr/dst, id: 190, url: https://github.com/sr/dst\n"
       ]
      }
     ],
     "prompt_number": 3
    },
    {
     "cell_type": "markdown",
     "metadata": {},
     "source": [
      "If you omit the `number` parameter, github3.py will attempt to retrieve all of the public repositories available on GitHub. In order to iterate over all of them in a reasonable amount of time, you should authenticate like so:"
     ]
    },
    {
     "cell_type": "code",
     "collapsed": false,
     "input": [
      "gh = github3.login('username', 'password')"
     ],
     "language": "python",
     "metadata": {},
     "outputs": [],
     "prompt_number": 4
    },
    {
     "cell_type": "code",
     "collapsed": false,
     "input": [
      "for repository in gh.all_repositories():\n",
      "    print('{0} - id: {0.id}, url: {0.html_url}'.format(repository))"
     ],
     "language": "python",
     "metadata": {},
     "outputs": []
    }
   ],
   "metadata": {}
  }
 ]
}

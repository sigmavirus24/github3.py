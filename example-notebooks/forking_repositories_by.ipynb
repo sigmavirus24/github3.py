{
 "cells": [
  {
   "cell_type": "markdown",
   "metadata": {},
   "source": [
    "# Listing repositories by their owner"
   ]
  },
  {
   "cell_type": "code",
   "execution_count": 1,
   "metadata": {},
   "outputs": [],
   "source": [
    "import github3"
   ]
  },
  {
   "cell_type": "code",
   "execution_count": 2,
   "metadata": {},
   "outputs": [
    {
     "name": "stdout",
     "output_type": "stream",
     "text": [
      "sigmavirus24/betamax created at 2013-07-16 03:23:22+00:00\n",
      "sigmavirus24/betamax_matchers created at 2014-07-19 18:51:39+00:00\n",
      "sigmavirus24/catapultpgh created at 2013-02-11 17:16:43+00:00\n",
      "sigmavirus24/charade created at 2012-11-28 03:24:20+00:00\n",
      "sigmavirus24/clint created at 2013-02-10 21:09:02+00:00\n",
      "sigmavirus24/contrib-hub created at 2013-11-30 18:36:55+00:00\n",
      "sigmavirus24/crequests created at 2013-01-24 22:54:17+00:00\n",
      "sigmavirus24/curryer created at 2013-11-10 02:03:42+00:00\n",
      "sigmavirus24/c_libs created at 2012-06-11 14:45:35+00:00\n",
      "sigmavirus24/ddg created at 2012-12-16 22:11:35+00:00\n",
      "sigmavirus24/developer.github.com created at 2012-05-27 04:19:17+00:00\n",
      "sigmavirus24/dream-python created at 2014-08-13 15:55:44+00:00\n",
      "sigmavirus24/elephant created at 2013-03-27 18:25:03+00:00\n",
      "sigmavirus24/euler.hs created at 2013-10-19 01:19:03+00:00\n",
      "sigmavirus24/expecter created at 2012-07-25 03:02:58+00:00\n",
      "sigmavirus24/format-geojson.clj created at 2013-10-25 22:17:20+00:00\n",
      "sigmavirus24/ghsync created at 2012-10-17 13:49:42+00:00\n",
      "sigmavirus24/git-hub created at 2012-10-05 19:35:45+00:00\n",
      "sigmavirus24/GITenberg created at 2012-09-25 21:07:30+00:00\n",
      "sigmavirus24/github-cli created at 2012-07-05 14:58:47+00:00\n",
      "sigmavirus24/github3.py created at 2012-03-13 19:58:53+00:00\n",
      "sigmavirus24/GitPython created at 2012-11-28 16:27:22+00:00\n",
      "sigmavirus24/grequests created at 2012-12-30 23:04:12+00:00\n",
      "sigmavirus24/gtk-vikb created at 2012-07-16 23:18:15+00:00\n",
      "sigmavirus24/heroku-buildpack-python created at 2013-01-19 18:09:35+00:00\n",
      "sigmavirus24/http11 created at 2014-07-21 01:57:47+00:00\n",
      "sigmavirus24/httpbin created at 2013-07-19 18:53:30+00:00\n",
      "sigmavirus24/hyper created at 2014-02-20 16:02:48+00:00\n",
      "sigmavirus24/issues.py created at 2012-02-25 21:32:31+00:00\n",
      "sigmavirus24/LendingClubAutoInvestor created at 2013-05-08 14:56:33+00:00\n",
      "sigmavirus24/libyaml created at 2013-12-01 18:27:17+00:00\n",
      "sigmavirus24/lyahfgg created at 2013-07-31 02:47:36+00:00\n",
      "sigmavirus24/madison_geojson created at 2013-10-25 20:40:41+00:00\n",
      "sigmavirus24/mccabe created at 2014-04-18 18:30:26+00:00\n",
      "sigmavirus24/mixfaster created at 2012-06-30 00:13:21+00:00\n",
      "sigmavirus24/mixminion created at 2011-09-06 13:34:15+00:00\n",
      "sigmavirus24/mock_github_api created at 2012-12-21 23:14:08+00:00\n",
      "sigmavirus24/nothub created at 2013-01-29 18:00:15+00:00\n",
      "sigmavirus24/No_Agenda_Bat_Sig created at 2010-11-05 03:18:10+00:00\n",
      "sigmavirus24/octokit.rb created at 2013-12-12 02:32:30+00:00\n",
      "sigmavirus24/ordinary created at 2013-06-15 18:09:48+00:00\n",
      "sigmavirus24/patch-converter created at 2012-11-26 13:52:57+00:00\n",
      "sigmavirus24/pelican created at 2012-06-14 14:25:45+00:00\n",
      "sigmavirus24/pelican-themes created at 2012-06-14 13:51:35+00:00\n",
      "sigmavirus24/pep8 created at 2012-09-06 14:13:14+00:00\n",
      "sigmavirus24/pip created at 2014-01-07 14:27:24+00:00\n",
      "sigmavirus24/polynomials.py created at 2013-04-10 03:12:06+00:00\n",
      "sigmavirus24/PyF-ck created at 2013-05-01 22:14:11+00:00\n",
      "sigmavirus24/pyflakes created at 2014-07-23 15:06:17+00:00\n",
      "sigmavirus24/pyflakes-old created at 2013-01-28 00:25:27+00:00\n",
      "sigmavirus24/python-guide created at 2012-06-15 18:00:03+00:00\n",
      "sigmavirus24/python-interview-questions created at 2014-08-13 02:32:38+00:00\n",
      "sigmavirus24/pyyaml created at 2013-12-01 18:29:02+00:00\n",
      "sigmavirus24/rack created at 2014-07-13 00:51:30+00:00\n",
      "sigmavirus24/recipes created at 2013-01-25 04:31:44+00:00\n",
      "sigmavirus24/repl_fun created at 2013-03-30 15:13:42+00:00\n",
      "sigmavirus24/requests created at 2012-06-15 13:47:06+00:00\n",
      "sigmavirus24/requests-data-schemes created at 2013-01-07 04:49:50+00:00\n",
      "sigmavirus24/requests-ntlm created at 2014-07-18 21:32:31+00:00\n",
      "sigmavirus24/requests-toolbelt created at 2013-12-29 21:19:08+00:00\n",
      "sigmavirus24/requests.rb created at 2013-02-01 02:52:28+00:00\n",
      "sigmavirus24/rfc3986 created at 2014-06-25 14:25:11+00:00\n",
      "sigmavirus24/shipit created at 2013-05-22 19:32:18+00:00\n",
      "sigmavirus24/solarized-pygment created at 2013-01-13 23:36:54+00:00\n",
      "sigmavirus24/sprunge.py created at 2012-06-09 14:19:26+00:00\n",
      "sigmavirus24/subscribed created at 2012-10-07 03:40:31+00:00\n",
      "sigmavirus24/Todo.txt-python created at 2012-09-16 19:31:58+00:00\n",
      "sigmavirus24/update_firefox created at 2012-06-19 01:56:02+00:00\n",
      "sigmavirus24/uritemplate created at 2013-05-14 16:52:08+00:00\n",
      "sigmavirus24/urllib3 created at 2013-12-04 03:04:13+00:00\n",
      "sigmavirus24/vcr created at 2013-09-18 03:15:42+00:00\n",
      "sigmavirus24/vim-stopsign created at 2013-09-03 13:26:03+00:00\n",
      "sigmavirus24/www.gittip.com created at 2013-01-16 13:15:38+00:00\n",
      "sigmavirus24/x11-ssh-askpass created at 2011-09-08 15:25:05+00:00\n",
      "sigmavirus24/zero created at 2013-09-15 02:17:30+00:00\n",
      "sigmavirus24/zero_buffer created at 2014-07-31 18:46:36+00:00\n"
     ]
    }
   ],
   "source": [
    "for repository in github3.repositories_by('sigmavirus24'):\n",
    "    print('{0} created at {0.created_at}'.format(repository))"
   ]
  },
  {
   "cell_type": "markdown",
   "metadata": {},
   "source": [
    "You can also login and fork each of these repositories."
   ]
  },
  {
   "cell_type": "code",
   "execution_count": 3,
   "metadata": {},
   "outputs": [],
   "source": [
    "gh = github3.login('username', 'password')"
   ]
  },
  {
   "cell_type": "code",
   "execution_count": null,
   "metadata": {},
   "outputs": [],
   "source": [
    "for repository in gh.repositories_by('sigmavirus24'):\n",
    "    repository.create_fork()"
   ]
  },
  {
   "cell_type": "markdown",
   "metadata": {},
   "source": [
    "If you wanted to fork an organization to you, you could do the following: "
   ]
  },
  {
   "cell_type": "code",
   "execution_count": null,
   "metadata": {},
   "outputs": [],
   "source": [
    "for repository in gh.repositories_by('sigmavirus24'):\n",
    "    repository.create_fork('my-organization')"
   ]
  }
 ],
 "metadata": {
  "kernelspec": {
   "display_name": "Python 3",
   "language": "python",
   "name": "python3"
  },
  "language_info": {
   "codemirror_mode": {
    "name": "ipython",
    "version": 3
   },
   "file_extension": ".py",
   "mimetype": "text/x-python",
   "name": "python",
   "nbconvert_exporter": "python",
   "pygments_lexer": "ipython3",
   "version": "3.8.8"
  }
 },
 "nbformat": 4,
 "nbformat_minor": 1
}

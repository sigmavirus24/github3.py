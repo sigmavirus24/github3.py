{
 "cells": [
  {
   "cell_type": "markdown",
   "metadata": {},
   "source": [
    "# The Issues API in github3.py"
   ]
  },
  {
   "cell_type": "code",
   "execution_count": 1,
   "metadata": {},
   "outputs": [],
   "source": [
    "import github3"
   ]
  },
  {
   "cell_type": "code",
   "execution_count": 2,
   "metadata": {},
   "outputs": [],
   "source": [
    "issue = github3.issue('sigmavirus24', 'github3.py', 187)"
   ]
  },
  {
   "cell_type": "code",
   "execution_count": 3,
   "metadata": {},
   "outputs": [
    {
     "name": "stdout",
     "output_type": "stream",
     "text": [
      "3\n"
     ]
    }
   ],
   "source": [
    "print(issue.comments_count)"
   ]
  },
  {
   "cell_type": "code",
   "execution_count": 4,
   "metadata": {},
   "outputs": [
    {
     "name": "stdout",
     "output_type": "stream",
     "text": [
      "Bug\n",
      "Easy\n",
      "Enhancement\n",
      "Pair with Ian\n"
     ]
    }
   ],
   "source": [
    "for label in issue.labels():\n",
    "    print(label)"
   ]
  },
  {
   "cell_type": "markdown",
   "metadata": {},
   "source": [
    "With an Issue object, we can retrieve a lot of information about the issue itself.\n",
    "\n",
    "We can also retrieve an issue's text (or body) in *three* ways:\n",
    "\n",
    "1. HTML\n",
    "1. Plain text\n",
    "1. Plain markdown"
   ]
  },
  {
   "cell_type": "code",
   "execution_count": 5,
   "metadata": {},
   "outputs": [
    {
     "name": "stdout",
     "output_type": "stream",
     "text": [
      "<p><a href=\"https://twitter.com/brian_curtin/status/420665317270900736\">https://twitter.com/brian_curtin/status/420665317270900736</a> made me realize I never documented it <em>at all</em>.</p>\n",
      "\n",
      "<p>Also it needs to be added to the <code>github3.login</code> function. We need a few good examples to document it with.</p>\n"
     ]
    }
   ],
   "source": [
    "print(issue.body_html)"
   ]
  },
  {
   "cell_type": "code",
   "execution_count": 6,
   "metadata": {},
   "outputs": [
    {
     "name": "stdout",
     "output_type": "stream",
     "text": [
      "https://twitter.com/brian_curtin/status/420665317270900736 made me realize I never documented it at all.\n",
      "\n",
      "Also it needs to be added to the github3.login function. We need a few good examples to document it with.\n"
     ]
    }
   ],
   "source": [
    "print(issue.body_text)"
   ]
  },
  {
   "cell_type": "code",
   "execution_count": 10,
   "metadata": {},
   "outputs": [
    {
     "name": "stdout",
     "output_type": "stream",
     "text": [
      "https://twitter.com/brian_curtin/status/420665317270900736 made me realize I never documented it *at all*.\r\n",
      "\r\n",
      "Also it needs to be added to the `github3.login` function. We need a few good examples to document it with.\n"
     ]
    }
   ],
   "source": [
    "print(issue.body)"
   ]
  },
  {
   "cell_type": "code",
   "execution_count": 7,
   "metadata": {},
   "outputs": [
    {
     "name": "stdout",
     "output_type": "stream",
     "text": [
      "https://github.com/sigmavirus24/github3.py/issues/187\n"
     ]
    }
   ],
   "source": [
    "print(issue.html_url)"
   ]
  },
  {
   "cell_type": "code",
   "execution_count": 8,
   "metadata": {},
   "outputs": [
    {
     "name": "stdout",
     "output_type": "stream",
     "text": [
      "#187: \"Document two factor auth\" opened by sigmavirus24\n"
     ]
    }
   ],
   "source": [
    "print('#{0.number}: \"{0.title}\" opened by {0.user}'.format(issue))"
   ]
  },
  {
   "cell_type": "code",
   "execution_count": 11,
   "metadata": {},
   "outputs": [
    {
     "name": "stdout",
     "output_type": "stream",
     "text": [
      "\"Note to self: Don't merge without documentation :-p \n",
      "\n",
      "But I totally thought I had some REPL/iPython output from testing this when it was implemented that would have worked well for an example.\" posted by esacteksab\n",
      "--------------------------------------------------------------------------------\n",
      "\"On Tue, Jan 07, 2014 at 05:48:28PM -0800, Barry Morrison wrote:\n",
      " Note to self: _Don't merge without documentation_ :-p\n",
      "A thousand times this.\n",
      " But I totally thought I had some REPL/iPython output from testing this when\n",
      " it was implemented that would have worked well for an example.\n",
      "I'll take it!\" posted by sigmavirus24\n",
      "--------------------------------------------------------------------------------\n",
      "\"Went back through my things. I don't have anything. :(\" posted by esacteksab\n",
      "--------------------------------------------------------------------------------\n"
     ]
    }
   ],
   "source": [
    "for comment in issue.comments():\n",
    "    print('\"{0.body_text}\" posted by {0.user}'.format(comment))\n",
    "    print('-' * 80)"
   ]
  },
  {
   "cell_type": "markdown",
   "metadata": {},
   "source": [
    "As you can see above [esacteksab](https://github.com/esacteksab) originally thought of using IPython notebooks to document github3.py"
   ]
  }
 ],
 "metadata": {
  "kernelspec": {
   "display_name": "Python 3",
   "language": "python",
   "name": "python3"
  },
  "language_info": {
   "codemirror_mode": {
    "name": "ipython",
    "version": 3
   },
   "file_extension": ".py",
   "mimetype": "text/x-python",
   "name": "python",
   "nbconvert_exporter": "python",
   "pygments_lexer": "ipython3",
   "version": "3.8.8"
  }
 },
 "nbformat": 4,
 "nbformat_minor": 1
}

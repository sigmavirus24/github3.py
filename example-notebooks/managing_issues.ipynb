{
 "metadata": {
  "name": "",
  "signature": "sha256:b8cf2efcee4cc8dbd7cc3243958fbb66c6b0bd59d6d977e1c84b98e3058a616a"
 },
 "nbformat": 3,
 "nbformat_minor": 0,
 "worksheets": [
  {
   "cells": [
    {
     "cell_type": "heading",
     "level": 1,
     "metadata": {},
     "source": [
      "Creating, Editing, Closing, and Adding Labels to Issues"
     ]
    },
    {
     "cell_type": "code",
     "collapsed": false,
     "input": [
      "import github3"
     ],
     "language": "python",
     "metadata": {},
     "outputs": [],
     "prompt_number": 1
    },
    {
     "cell_type": "code",
     "collapsed": false,
     "input": [
      "import os"
     ],
     "language": "python",
     "metadata": {},
     "outputs": [],
     "prompt_number": 2
    },
    {
     "cell_type": "code",
     "collapsed": false,
     "input": [
      "gh = github3.login(os.environ['GH_USERNAME'], os.environ['GH_PASSWORD'])"
     ],
     "language": "python",
     "metadata": {},
     "outputs": [],
     "prompt_number": 3
    },
    {
     "cell_type": "markdown",
     "metadata": {},
     "source": [
      "Now that we've created an authenticated client, let's fetch the repository we need to create our issue on."
     ]
    },
    {
     "cell_type": "code",
     "collapsed": false,
     "input": [
      "r = gh.repository('github3py', 'fork_this')"
     ],
     "language": "python",
     "metadata": {},
     "outputs": [],
     "prompt_number": 4
    },
    {
     "cell_type": "markdown",
     "metadata": {},
     "source": [
      "Next we create the issue using the `create_issue` method on the `Repository` object. It only requires that you pass the first parameter, `title`, to give the issue a title. The next parameter is `body` and it allows you to provide a description of the bug."
     ]
    },
    {
     "cell_type": "code",
     "collapsed": false,
     "input": [
      "i = r.create_issue('Here is a title', body='I ran into this bug using version 0.1-alpha the other day ...')"
     ],
     "language": "python",
     "metadata": {},
     "outputs": [],
     "prompt_number": 5
    },
    {
     "cell_type": "code",
     "collapsed": false,
     "input": [
      "repr(i)"
     ],
     "language": "python",
     "metadata": {},
     "outputs": [
      {
       "metadata": {},
       "output_type": "pyout",
       "prompt_number": 6,
       "text": [
        "'<Issue [github3py/fork_this #7]>'"
       ]
      }
     ],
     "prompt_number": 6
    },
    {
     "cell_type": "markdown",
     "metadata": {},
     "source": [
      "What if we accidentally created an invalid bug report? We can close it right from here!"
     ]
    },
    {
     "cell_type": "code",
     "collapsed": false,
     "input": [
      "help(i.close)"
     ],
     "language": "python",
     "metadata": {},
     "outputs": [
      {
       "output_type": "stream",
       "stream": "stdout",
       "text": [
        "Help on method close in module github3.issues.issue:\n",
        "\n",
        "close() method of github3.issues.issue.Issue instance\n",
        "    Close this issue.\n",
        "    \n",
        "    :returns: bool\n",
        "\n"
       ]
      }
     ],
     "prompt_number": 7
    },
    {
     "cell_type": "code",
     "collapsed": false,
     "input": [
      "i.close()"
     ],
     "language": "python",
     "metadata": {},
     "outputs": [
      {
       "metadata": {},
       "output_type": "pyout",
       "prompt_number": 8,
       "text": [
        "True"
       ]
      }
     ],
     "prompt_number": 8
    },
    {
     "cell_type": "markdown",
     "metadata": {},
     "source": [
      "But actually, we were just able to reproduce the issue. Let's re-open it, then we'll add some more details to the description."
     ]
    },
    {
     "cell_type": "code",
     "collapsed": false,
     "input": [
      "i.reopen()"
     ],
     "language": "python",
     "metadata": {},
     "outputs": [
      {
       "metadata": {},
       "output_type": "pyout",
       "prompt_number": 9,
       "text": [
        "True"
       ]
      }
     ],
     "prompt_number": 9
    },
    {
     "cell_type": "code",
     "collapsed": false,
     "input": [
      "body = i.body"
     ],
     "language": "python",
     "metadata": {},
     "outputs": [],
     "prompt_number": 10
    },
    {
     "cell_type": "code",
     "collapsed": false,
     "input": [
      "i.edit(body=(body + 'I tried to call reopen on an open issue and then ...'))"
     ],
     "language": "python",
     "metadata": {},
     "outputs": [
      {
       "metadata": {},
       "output_type": "pyout",
       "prompt_number": 11,
       "text": [
        "True"
       ]
      }
     ],
     "prompt_number": 11
    },
    {
     "cell_type": "code",
     "collapsed": false,
     "input": [
      "print(i.body)"
     ],
     "language": "python",
     "metadata": {},
     "outputs": [
      {
       "output_type": "stream",
       "stream": "stdout",
       "text": [
        "I ran into this bug using version 0.1-alpha the other day ...I tried to call reopen on an open issue and then ...\n"
       ]
      }
     ],
     "prompt_number": 12
    },
    {
     "cell_type": "markdown",
     "metadata": {},
     "source": [
      "We can even add comments"
     ]
    },
    {
     "cell_type": "code",
     "collapsed": false,
     "input": [
      "comment = i.create_comment('Thanks for this bug report!')"
     ],
     "language": "python",
     "metadata": {},
     "outputs": [],
     "prompt_number": 13
    },
    {
     "cell_type": "code",
     "collapsed": false,
     "input": [
      "repr(comment)"
     ],
     "language": "python",
     "metadata": {},
     "outputs": [
      {
       "metadata": {},
       "output_type": "pyout",
       "prompt_number": 14,
       "text": [
        "'<Issue Comment [sigmavirus24]>'"
       ]
      }
     ],
     "prompt_number": 14
    },
    {
     "cell_type": "markdown",
     "metadata": {},
     "source": [
      "Finally, if you're a collaborator on a repository, you can add labels or a milestone to an issue."
     ]
    },
    {
     "cell_type": "code",
     "collapsed": false,
     "input": [
      "i.add_labels('enhancement', 'bug')"
     ],
     "language": "python",
     "metadata": {},
     "outputs": [
      {
       "metadata": {},
       "output_type": "pyout",
       "prompt_number": 15,
       "text": [
        "[<Label [bug]>, <Label [enhancement]>]"
       ]
      }
     ],
     "prompt_number": 15
    },
    {
     "cell_type": "code",
     "collapsed": false,
     "input": [
      "labels = _"
     ],
     "language": "python",
     "metadata": {},
     "outputs": [],
     "prompt_number": 16
    },
    {
     "cell_type": "code",
     "collapsed": false,
     "input": [
      "repr(labels)"
     ],
     "language": "python",
     "metadata": {},
     "outputs": [
      {
       "metadata": {},
       "output_type": "pyout",
       "prompt_number": 17,
       "text": [
        "'[<Label [bug]>, <Label [enhancement]>]'"
       ]
      }
     ],
     "prompt_number": 17
    },
    {
     "cell_type": "code",
     "collapsed": false,
     "input": [
      "labels[0].color"
     ],
     "language": "python",
     "metadata": {},
     "outputs": [
      {
       "metadata": {},
       "output_type": "pyout",
       "prompt_number": 18,
       "text": [
        "'fc2929'"
       ]
      }
     ],
     "prompt_number": 18
    },
    {
     "cell_type": "code",
     "collapsed": false,
     "input": [
      "print('You can view that this actually happened with a real issue here: {0}'.format(i.html_url))"
     ],
     "language": "python",
     "metadata": {},
     "outputs": [
      {
       "output_type": "stream",
       "stream": "stdout",
       "text": [
        "You can view that this actually happened with a real issue here: https://github.com/github3py/fork_this/issues/7\n"
       ]
      }
     ],
     "prompt_number": 19
    },
    {
     "cell_type": "markdown",
     "metadata": {},
     "source": [
      "For now, though, I'm going to close this issue. It's unnecessary."
     ]
    },
    {
     "cell_type": "code",
     "collapsed": false,
     "input": [
      "i.close()"
     ],
     "language": "python",
     "metadata": {},
     "outputs": [
      {
       "metadata": {},
       "output_type": "pyout",
       "prompt_number": 20,
       "text": [
        "True"
       ]
      }
     ],
     "prompt_number": 20
    }
   ],
   "metadata": {}
  }
 ]
}

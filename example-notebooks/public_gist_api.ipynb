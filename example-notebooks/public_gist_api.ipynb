{
 "metadata": {
  "name": "",
  "signature": "sha256:38e38a4a830fca0d759f9c8ac7f7b947e53586dfe760575d6d01730893498fa5"
 },
 "nbformat": 3,
 "nbformat_minor": 0,
 "worksheets": [
  {
   "cells": [
    {
     "cell_type": "heading",
     "level": 1,
     "metadata": {},
     "source": [
      "Gists API"
     ]
    },
    {
     "cell_type": "code",
     "collapsed": false,
     "input": [
      "import github3"
     ],
     "language": "python",
     "metadata": {},
     "outputs": [],
     "prompt_number": 1
    },
    {
     "cell_type": "code",
     "collapsed": false,
     "input": [
      "gist = github3.gist('44885b92ce00e105b92e')"
     ],
     "language": "python",
     "metadata": {},
     "outputs": [],
     "prompt_number": 2
    },
    {
     "cell_type": "code",
     "collapsed": false,
     "input": [
      "print('Gist {0.id} is {1}'.format(gist, 'public' if gist.public else 'private'))"
     ],
     "language": "python",
     "metadata": {},
     "outputs": [
      {
       "output_type": "stream",
       "stream": "stdout",
       "text": [
        "Gist 44885b92ce00e105b92e is public\n"
       ]
      }
     ],
     "prompt_number": 3
    },
    {
     "cell_type": "code",
     "collapsed": false,
     "input": [
      "print('Gist {0.id} can be cloned from {0.git_pull_url}'.format(gist))"
     ],
     "language": "python",
     "metadata": {},
     "outputs": [
      {
       "output_type": "stream",
       "stream": "stdout",
       "text": [
        "Gist 44885b92ce00e105b92e can be cloned from https://gist.github.com/44885b92ce00e105b92e.git\n"
       ]
      }
     ],
     "prompt_number": 4
    },
    {
     "cell_type": "code",
     "collapsed": false,
     "input": [
      "print('Gist {0.id} was created by {0.owner} on {0.created_at}'.format(gist))"
     ],
     "language": "python",
     "metadata": {},
     "outputs": [
      {
       "output_type": "stream",
       "stream": "stdout",
       "text": [
        "Gist 44885b92ce00e105b92e was created by sigmavirus24 on 2014-08-10 13:21:21+00:00\n"
       ]
      }
     ],
     "prompt_number": 6
    },
    {
     "cell_type": "code",
     "collapsed": false,
     "input": [
      "print(gist.comments_count)"
     ],
     "language": "python",
     "metadata": {},
     "outputs": [
      {
       "output_type": "stream",
       "stream": "stdout",
       "text": [
        "1\n"
       ]
      }
     ],
     "prompt_number": 7
    },
    {
     "cell_type": "code",
     "collapsed": false,
     "input": [
      "for comment in gist.comments():\n",
      "    print('\"{0.body_text}\" posted by {0.user}'.format(comment))"
     ],
     "language": "python",
     "metadata": {},
     "outputs": [
      {
       "output_type": "stream",
       "stream": "stdout",
       "text": [
        "\"funny\" posted by mauricioabreu\n"
       ]
      }
     ],
     "prompt_number": 8
    },
    {
     "cell_type": "code",
     "collapsed": false,
     "input": [
      "for gist_file in gist.files():\n",
      "    print('There is a file named {0.filename} that is {0.size} bytes long.'.format(gist_file))"
     ],
     "language": "python",
     "metadata": {},
     "outputs": [
      {
       "output_type": "stream",
       "stream": "stdout",
       "text": [
        "There is a file named pascal's output that is 278 bytes long.\n",
        "There is a file named pascals_triangle.py that is 367 bytes long.\n"
       ]
      }
     ],
     "prompt_number": 9
    }
   ],
   "metadata": {}
  }
 ]
}

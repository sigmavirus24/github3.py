{
 "cells": [
  {
   "cell_type": "markdown",
   "metadata": {},
   "source": [
    "# Gists API"
   ]
  },
  {
   "cell_type": "code",
   "execution_count": 1,
   "metadata": {},
   "outputs": [],
   "source": [
    "import github3"
   ]
  },
  {
   "cell_type": "code",
   "execution_count": 2,
   "metadata": {},
   "outputs": [],
   "source": [
    "gist = github3.gist('44885b92ce00e105b92e')"
   ]
  },
  {
   "cell_type": "code",
   "execution_count": 3,
   "metadata": {},
   "outputs": [
    {
     "name": "stdout",
     "output_type": "stream",
     "text": [
      "Gist 44885b92ce00e105b92e is public\n"
     ]
    }
   ],
   "source": [
    "print('Gist {0.id} is {1}'.format(gist, 'public' if gist.public else 'private'))"
   ]
  },
  {
   "cell_type": "code",
   "execution_count": 4,
   "metadata": {},
   "outputs": [
    {
     "name": "stdout",
     "output_type": "stream",
     "text": [
      "Gist 44885b92ce00e105b92e can be cloned from https://gist.github.com/44885b92ce00e105b92e.git\n"
     ]
    }
   ],
   "source": [
    "print('Gist {0.id} can be cloned from {0.git_pull_url}'.format(gist))"
   ]
  },
  {
   "cell_type": "code",
   "execution_count": 6,
   "metadata": {},
   "outputs": [
    {
     "name": "stdout",
     "output_type": "stream",
     "text": [
      "Gist 44885b92ce00e105b92e was created by sigmavirus24 on 2014-08-10 13:21:21+00:00\n"
     ]
    }
   ],
   "source": [
    "print('Gist {0.id} was created by {0.owner} on {0.created_at}'.format(gist))"
   ]
  },
  {
   "cell_type": "code",
   "execution_count": 7,
   "metadata": {},
   "outputs": [
    {
     "name": "stdout",
     "output_type": "stream",
     "text": [
      "1\n"
     ]
    }
   ],
   "source": [
    "print(gist.comments_count)"
   ]
  },
  {
   "cell_type": "code",
   "execution_count": 8,
   "metadata": {},
   "outputs": [
    {
     "name": "stdout",
     "output_type": "stream",
     "text": [
      "\"funny\" posted by mauricioabreu\n"
     ]
    }
   ],
   "source": [
    "for comment in gist.comments():\n",
    "    print('\"{0.body_text}\" posted by {0.user}'.format(comment))"
   ]
  },
  {
   "cell_type": "code",
   "execution_count": 9,
   "metadata": {},
   "outputs": [
    {
     "name": "stdout",
     "output_type": "stream",
     "text": [
      "There is a file named pascal's output that is 278 bytes long.\n",
      "There is a file named pascals_triangle.py that is 367 bytes long.\n"
     ]
    }
   ],
   "source": [
    "for gist_file in gist.files():\n",
    "    print('There is a file named {0.filename} that is {0.size} bytes long.'.format(gist_file))"
   ]
  }
 ],
 "metadata": {
  "kernelspec": {
   "display_name": "Python 3",
   "language": "python",
   "name": "python3"
  },
  "language_info": {
   "codemirror_mode": {
    "name": "ipython",
    "version": 3
   },
   "file_extension": ".py",
   "mimetype": "text/x-python",
   "name": "python",
   "nbconvert_exporter": "python",
   "pygments_lexer": "ipython3",
   "version": "3.8.8"
  }
 },
 "nbformat": 4,
 "nbformat_minor": 1
}

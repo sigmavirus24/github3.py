{
 "cells": [
  {
   "cell_type": "markdown",
   "metadata": {},
   "source": [
    "# Retrieving a repository's issues"
   ]
  },
  {
   "cell_type": "code",
   "execution_count": 1,
   "metadata": {},
   "outputs": [],
   "source": [
    "import github3"
   ]
  },
  {
   "cell_type": "code",
   "execution_count": 2,
   "metadata": {},
   "outputs": [],
   "source": [
    "repo = github3.repository('sigmavirus24', 'github3.py')"
   ]
  },
  {
   "cell_type": "code",
   "execution_count": 4,
   "metadata": {},
   "outputs": [
    {
     "name": "stdout",
     "output_type": "stream",
     "text": [
      "sigmavirus24/github3.py#270: \"IPython docs\"\n",
      "\thttps://github.com/sigmavirus24/github3.py/pull/270\n",
      "sigmavirus24/github3.py#269: \"Deprecate old team members API. Add new API\"\n",
      "\thttps://github.com/sigmavirus24/github3.py/issues/269\n",
      "sigmavirus24/github3.py#263: \"Replace Repository#comments_on_commit with RepoCommit#comments\"\n",
      "\thttps://github.com/sigmavirus24/github3.py/issues/263\n",
      "sigmavirus24/github3.py#262: \"iter_notifications(all=[bool]) should work passing True\"\n",
      "\thttps://github.com/sigmavirus24/github3.py/issues/262\n",
      "sigmavirus24/github3.py#258: \"User Keys Are Now Immutable\"\n",
      "\thttps://github.com/sigmavirus24/github3.py/issues/258\n",
      "sigmavirus24/github3.py#257: \"New attributes for PullRequestReviewComment events\"\n",
      "\thttps://github.com/sigmavirus24/github3.py/issues/257\n",
      "sigmavirus24/github3.py#256: \"[New] Statuses\"\n",
      "\thttps://github.com/sigmavirus24/github3.py/issues/256\n",
      "sigmavirus24/github3.py#255: \"Malformed Tag Causes AttributeError in models.py\"\n",
      "\thttps://github.com/sigmavirus24/github3.py/issues/255\n",
      "sigmavirus24/github3.py#253: \"Pull request commits fields are not set\"\n",
      "\thttps://github.com/sigmavirus24/github3.py/issues/253\n",
      "sigmavirus24/github3.py#248: \"Switch to (absolute) relative imports to allow for vendoring\"\n",
      "\thttps://github.com/sigmavirus24/github3.py/issues/248\n",
      "sigmavirus24/github3.py#241: \"removed duplicate documentation\"\n",
      "\thttps://github.com/sigmavirus24/github3.py/pull/241\n",
      "sigmavirus24/github3.py#226: \"ETag support for single objects\"\n",
      "\thttps://github.com/sigmavirus24/github3.py/issues/226\n",
      "sigmavirus24/github3.py#217: \"API does not handle unicode well\"\n",
      "\thttps://github.com/sigmavirus24/github3.py/issues/217\n",
      "sigmavirus24/github3.py#206: \"Better documentation regarding a repo's issues\"\n",
      "\thttps://github.com/sigmavirus24/github3.py/issues/206\n",
      "sigmavirus24/github3.py#191: \"Start a branch for updating the docs\"\n",
      "\thttps://github.com/sigmavirus24/github3.py/pull/191\n",
      "sigmavirus24/github3.py#187: \"Document two factor auth\"\n",
      "\thttps://github.com/sigmavirus24/github3.py/issues/187\n",
      "sigmavirus24/github3.py#186: \"Support SNI for Releases API\"\n",
      "\thttps://github.com/sigmavirus24/github3.py/issues/186\n",
      "sigmavirus24/github3.py#159: \"Create documentation for testing github3.py\"\n",
      "\thttps://github.com/sigmavirus24/github3.py/issues/159\n",
      "sigmavirus24/github3.py#122: \"Roadmap for 1.0\"\n",
      "\thttps://github.com/sigmavirus24/github3.py/issues/122\n",
      "sigmavirus24/github3.py#79: \"Caching support!\"\n",
      "\thttps://github.com/sigmavirus24/github3.py/issues/79\n"
     ]
    }
   ],
   "source": [
    "for issue in repo.issues():\n",
    "    print('{0}#{1.number}: \"{1.title}\"\\n\\t{1.html_url}'.format(repo, issue))"
   ]
  },
  {
   "cell_type": "markdown",
   "metadata": {},
   "source": [
    "You can also list closed issues."
   ]
  },
  {
   "cell_type": "code",
   "execution_count": 5,
   "metadata": {},
   "outputs": [],
   "source": [
    "repo = github3.repository('sigmavirus24', 'requests-toolbelt')"
   ]
  },
  {
   "cell_type": "code",
   "execution_count": 6,
   "metadata": {},
   "outputs": [
    {
     "name": "stdout",
     "output_type": "stream",
     "text": [
      "sigmavirus24/requests-toolbelt#36: \"Some fields do not get uploaded\"\n",
      "\thttps://github.com/sigmavirus24/requests-toolbelt/issues/36\n",
      "sigmavirus24/requests-toolbelt#35: \"Add ssl_version to the list of attributes\"\n",
      "\thttps://github.com/sigmavirus24/requests-toolbelt/pull/35\n",
      "sigmavirus24/requests-toolbelt#34: \"SSLAdapter crashes if used with multiprocessing\"\n",
      "\thttps://github.com/sigmavirus24/requests-toolbelt/issues/34\n",
      "sigmavirus24/requests-toolbelt#33: \"Add support for multipart/mixed\"\n",
      "\thttps://github.com/sigmavirus24/requests-toolbelt/issues/33\n",
      "sigmavirus24/requests-toolbelt#31: \"MultipartEncoder.read() returns less than 8192 bytes even when more bytes are left\"\n",
      "\thttps://github.com/sigmavirus24/requests-toolbelt/issues/31\n",
      "sigmavirus24/requests-toolbelt#29: \"Multipart encoder cannot be reused\"\n",
      "\thttps://github.com/sigmavirus24/requests-toolbelt/issues/29\n",
      "sigmavirus24/requests-toolbelt#28: \"GuessAuth\"\n",
      "\thttps://github.com/sigmavirus24/requests-toolbelt/pull/28\n",
      "sigmavirus24/requests-toolbelt#27: \"Request for Comments: Implement RFC 5987\"\n",
      "\thttps://github.com/sigmavirus24/requests-toolbelt/issues/27\n",
      "sigmavirus24/requests-toolbelt#25: \"Import authors to setup.py\"\n",
      "\thttps://github.com/sigmavirus24/requests-toolbelt/pull/25\n",
      "sigmavirus24/requests-toolbelt#24: \"Import metadata from package to setup.py\"\n",
      "\thttps://github.com/sigmavirus24/requests-toolbelt/pull/24\n",
      "sigmavirus24/requests-toolbelt#23: \"Add encoding comment to `*.py`\"\n",
      "\thttps://github.com/sigmavirus24/requests-toolbelt/pull/23\n",
      "sigmavirus24/requests-toolbelt#22: \"Add Monitor for MultipartEncoder\"\n",
      "\thttps://github.com/sigmavirus24/requests-toolbelt/pull/22\n",
      "sigmavirus24/requests-toolbelt#20: \"README.rst: minor edits, syntax highlighting\"\n",
      "\thttps://github.com/sigmavirus24/requests-toolbelt/pull/20\n",
      "sigmavirus24/requests-toolbelt#18: \"Slightly refactored MultipartEncoder + improved unit tests\"\n",
      "\thttps://github.com/sigmavirus24/requests-toolbelt/pull/18\n",
      "sigmavirus24/requests-toolbelt#17: \"MultipartEncoder sometimes add bytes\"\n",
      "\thttps://github.com/sigmavirus24/requests-toolbelt/issues/17\n",
      "sigmavirus24/requests-toolbelt#16: \"`MultipartEncoder` not fully compliant with RFC 1521\"\n",
      "\thttps://github.com/sigmavirus24/requests-toolbelt/issues/16\n",
      "sigmavirus24/requests-toolbelt#15: \"Adding Multipart Decoder, redux\"\n",
      "\thttps://github.com/sigmavirus24/requests-toolbelt/pull/15\n",
      "sigmavirus24/requests-toolbelt#14: \"Added MultipartDecoder.\"\n",
      "\thttps://github.com/sigmavirus24/requests-toolbelt/pull/14\n",
      "sigmavirus24/requests-toolbelt#13: \"add explicit utf-8 encoding\"\n",
      "\thttps://github.com/sigmavirus24/requests-toolbelt/pull/13\n",
      "sigmavirus24/requests-toolbelt#12: \"MultipartEncoder: added callback support and bytes read counter\"\n",
      "\thttps://github.com/sigmavirus24/requests-toolbelt/pull/12\n",
      "sigmavirus24/requests-toolbelt#11: \"Get version info from a file that actually exists\"\n",
      "\thttps://github.com/sigmavirus24/requests-toolbelt/pull/11\n",
      "sigmavirus24/requests-toolbelt#10: \"pip install fails with requests 1.2.3\"\n",
      "\thttps://github.com/sigmavirus24/requests-toolbelt/issues/10\n",
      "sigmavirus24/requests-toolbelt#9: \"'file' does not have the buffer interface\"\n",
      "\thttps://github.com/sigmavirus24/requests-toolbelt/issues/9\n",
      "sigmavirus24/requests-toolbelt#8: \"Invalid multipart encoding with a file\"\n",
      "\thttps://github.com/sigmavirus24/requests-toolbelt/pull/8\n",
      "sigmavirus24/requests-toolbelt#7: \"Many docs updates\"\n",
      "\thttps://github.com/sigmavirus24/requests-toolbelt/pull/7\n",
      "sigmavirus24/requests-toolbelt#6: \"Mention SSLAdapter in README.\"\n",
      "\thttps://github.com/sigmavirus24/requests-toolbelt/pull/6\n",
      "sigmavirus24/requests-toolbelt#5: \"Include the ever-popular SSLAdapter.\"\n",
      "\thttps://github.com/sigmavirus24/requests-toolbelt/pull/5\n",
      "sigmavirus24/requests-toolbelt#4: \"Attempt to limit how much is ever actually in memory\"\n",
      "\thttps://github.com/sigmavirus24/requests-toolbelt/pull/4\n",
      "sigmavirus24/requests-toolbelt#3: \"User agent constructor.\"\n",
      "\thttps://github.com/sigmavirus24/requests-toolbelt/pull/3\n",
      "sigmavirus24/requests-toolbelt#2: \"README fixes\"\n",
      "\thttps://github.com/sigmavirus24/requests-toolbelt/pull/2\n",
      "sigmavirus24/requests-toolbelt#1: \"Uploader does not really stream\"\n",
      "\thttps://github.com/sigmavirus24/requests-toolbelt/issues/1\n"
     ]
    }
   ],
   "source": [
    "for issue in repo.issues(state='closed'):\n",
    "    print('{0}#{1.number}: \"{1.title}\"\\n\\t{1.html_url}'.format(repo, issue))"
   ]
  },
  {
   "cell_type": "markdown",
   "metadata": {},
   "source": [
    "Finally, you can list `all` issues. This time, let's change the direction in which we list them."
   ]
  },
  {
   "cell_type": "code",
   "execution_count": 7,
   "metadata": {},
   "outputs": [
    {
     "name": "stdout",
     "output_type": "stream",
     "text": [
      "sigmavirus24/requests-toolbelt#1: \"Uploader does not really stream\"\n",
      "\thttps://github.com/sigmavirus24/requests-toolbelt/issues/1\n",
      "sigmavirus24/requests-toolbelt#2: \"README fixes\"\n",
      "\thttps://github.com/sigmavirus24/requests-toolbelt/pull/2\n",
      "sigmavirus24/requests-toolbelt#3: \"User agent constructor.\"\n",
      "\thttps://github.com/sigmavirus24/requests-toolbelt/pull/3\n",
      "sigmavirus24/requests-toolbelt#4: \"Attempt to limit how much is ever actually in memory\"\n",
      "\thttps://github.com/sigmavirus24/requests-toolbelt/pull/4\n",
      "sigmavirus24/requests-toolbelt#5: \"Include the ever-popular SSLAdapter.\"\n",
      "\thttps://github.com/sigmavirus24/requests-toolbelt/pull/5\n",
      "sigmavirus24/requests-toolbelt#6: \"Mention SSLAdapter in README.\"\n",
      "\thttps://github.com/sigmavirus24/requests-toolbelt/pull/6\n",
      "sigmavirus24/requests-toolbelt#7: \"Many docs updates\"\n",
      "\thttps://github.com/sigmavirus24/requests-toolbelt/pull/7\n",
      "sigmavirus24/requests-toolbelt#8: \"Invalid multipart encoding with a file\"\n",
      "\thttps://github.com/sigmavirus24/requests-toolbelt/pull/8\n",
      "sigmavirus24/requests-toolbelt#9: \"'file' does not have the buffer interface\"\n",
      "\thttps://github.com/sigmavirus24/requests-toolbelt/issues/9\n",
      "sigmavirus24/requests-toolbelt#10: \"pip install fails with requests 1.2.3\"\n",
      "\thttps://github.com/sigmavirus24/requests-toolbelt/issues/10\n",
      "sigmavirus24/requests-toolbelt#11: \"Get version info from a file that actually exists\"\n",
      "\thttps://github.com/sigmavirus24/requests-toolbelt/pull/11\n",
      "sigmavirus24/requests-toolbelt#12: \"MultipartEncoder: added callback support and bytes read counter\"\n",
      "\thttps://github.com/sigmavirus24/requests-toolbelt/pull/12\n",
      "sigmavirus24/requests-toolbelt#13: \"add explicit utf-8 encoding\"\n",
      "\thttps://github.com/sigmavirus24/requests-toolbelt/pull/13\n",
      "sigmavirus24/requests-toolbelt#14: \"Added MultipartDecoder.\"\n",
      "\thttps://github.com/sigmavirus24/requests-toolbelt/pull/14\n",
      "sigmavirus24/requests-toolbelt#15: \"Adding Multipart Decoder, redux\"\n",
      "\thttps://github.com/sigmavirus24/requests-toolbelt/pull/15\n",
      "sigmavirus24/requests-toolbelt#16: \"`MultipartEncoder` not fully compliant with RFC 1521\"\n",
      "\thttps://github.com/sigmavirus24/requests-toolbelt/issues/16\n",
      "sigmavirus24/requests-toolbelt#17: \"MultipartEncoder sometimes add bytes\"\n",
      "\thttps://github.com/sigmavirus24/requests-toolbelt/issues/17\n",
      "sigmavirus24/requests-toolbelt#18: \"Slightly refactored MultipartEncoder + improved unit tests\"\n",
      "\thttps://github.com/sigmavirus24/requests-toolbelt/pull/18\n",
      "sigmavirus24/requests-toolbelt#19: \"IPv6 Transport Adapter\"\n",
      "\thttps://github.com/sigmavirus24/requests-toolbelt/issues/19\n",
      "sigmavirus24/requests-toolbelt#20: \"README.rst: minor edits, syntax highlighting\"\n",
      "\thttps://github.com/sigmavirus24/requests-toolbelt/pull/20\n",
      "sigmavirus24/requests-toolbelt#21: \"WIP: AuthHandler\"\n",
      "\thttps://github.com/sigmavirus24/requests-toolbelt/pull/21\n",
      "sigmavirus24/requests-toolbelt#22: \"Add Monitor for MultipartEncoder\"\n",
      "\thttps://github.com/sigmavirus24/requests-toolbelt/pull/22\n",
      "sigmavirus24/requests-toolbelt#23: \"Add encoding comment to `*.py`\"\n",
      "\thttps://github.com/sigmavirus24/requests-toolbelt/pull/23\n",
      "sigmavirus24/requests-toolbelt#24: \"Import metadata from package to setup.py\"\n",
      "\thttps://github.com/sigmavirus24/requests-toolbelt/pull/24\n",
      "sigmavirus24/requests-toolbelt#25: \"Import authors to setup.py\"\n",
      "\thttps://github.com/sigmavirus24/requests-toolbelt/pull/25\n",
      "sigmavirus24/requests-toolbelt#26: \"illegal seek uploading data stream\"\n",
      "\thttps://github.com/sigmavirus24/requests-toolbelt/issues/26\n",
      "sigmavirus24/requests-toolbelt#27: \"Request for Comments: Implement RFC 5987\"\n",
      "\thttps://github.com/sigmavirus24/requests-toolbelt/issues/27\n",
      "sigmavirus24/requests-toolbelt#28: \"GuessAuth\"\n",
      "\thttps://github.com/sigmavirus24/requests-toolbelt/pull/28\n",
      "sigmavirus24/requests-toolbelt#29: \"Multipart encoder cannot be reused\"\n",
      "\thttps://github.com/sigmavirus24/requests-toolbelt/issues/29\n",
      "sigmavirus24/requests-toolbelt#30: \"File object not closed\"\n",
      "\thttps://github.com/sigmavirus24/requests-toolbelt/issues/30\n",
      "sigmavirus24/requests-toolbelt#31: \"MultipartEncoder.read() returns less than 8192 bytes even when more bytes are left\"\n",
      "\thttps://github.com/sigmavirus24/requests-toolbelt/issues/31\n",
      "sigmavirus24/requests-toolbelt#32: \"Duplicated content in user.rst and README.rst?\"\n",
      "\thttps://github.com/sigmavirus24/requests-toolbelt/issues/32\n",
      "sigmavirus24/requests-toolbelt#33: \"Add support for multipart/mixed\"\n",
      "\thttps://github.com/sigmavirus24/requests-toolbelt/issues/33\n",
      "sigmavirus24/requests-toolbelt#34: \"SSLAdapter crashes if used with multiprocessing\"\n",
      "\thttps://github.com/sigmavirus24/requests-toolbelt/issues/34\n",
      "sigmavirus24/requests-toolbelt#35: \"Add ssl_version to the list of attributes\"\n",
      "\thttps://github.com/sigmavirus24/requests-toolbelt/pull/35\n",
      "sigmavirus24/requests-toolbelt#36: \"Some fields do not get uploaded\"\n",
      "\thttps://github.com/sigmavirus24/requests-toolbelt/issues/36\n",
      "sigmavirus24/requests-toolbelt#37: \"Improve documentation\"\n",
      "\thttps://github.com/sigmavirus24/requests-toolbelt/issues/37\n",
      "sigmavirus24/requests-toolbelt#38: \"Add from_file classmethod to StreamingIterator\"\n",
      "\thttps://github.com/sigmavirus24/requests-toolbelt/issues/38\n",
      "sigmavirus24/requests-toolbelt#39: \"MultipartEncoder int encoding issues\"\n",
      "\thttps://github.com/sigmavirus24/requests-toolbelt/issues/39\n"
     ]
    }
   ],
   "source": [
    "for issue in repo.issues(state='all', direction='asc'):\n",
    "    print('{0}#{1.number}: \"{1.title}\"\\n\\t{1.html_url}'.format(repo, issue))"
   ]
  },
  {
   "cell_type": "markdown",
   "metadata": {},
   "source": [
    "## An alternative method to retrieving issues on a repository"
   ]
  },
  {
   "cell_type": "code",
   "execution_count": 1,
   "metadata": {},
   "outputs": [],
   "source": [
    "import github3"
   ]
  },
  {
   "cell_type": "code",
   "execution_count": 3,
   "metadata": {},
   "outputs": [
    {
     "name": "stdout",
     "output_type": "stream",
     "text": [
      "sigmavirus24/requests-toolbelt#39: \"MultipartEncoder int encoding issues\"\n",
      "\thttps://github.com/sigmavirus24/requests-toolbelt/issues/39\n",
      "sigmavirus24/requests-toolbelt#38: \"Add from_file classmethod to StreamingIterator\"\n",
      "\thttps://github.com/sigmavirus24/requests-toolbelt/issues/38\n",
      "sigmavirus24/requests-toolbelt#37: \"Improve documentation\"\n",
      "\thttps://github.com/sigmavirus24/requests-toolbelt/issues/37\n",
      "sigmavirus24/requests-toolbelt#32: \"Duplicated content in user.rst and README.rst?\"\n",
      "\thttps://github.com/sigmavirus24/requests-toolbelt/issues/32\n",
      "sigmavirus24/requests-toolbelt#30: \"File object not closed\"\n",
      "\thttps://github.com/sigmavirus24/requests-toolbelt/issues/30\n",
      "sigmavirus24/requests-toolbelt#26: \"illegal seek uploading data stream\"\n",
      "\thttps://github.com/sigmavirus24/requests-toolbelt/issues/26\n",
      "sigmavirus24/requests-toolbelt#21: \"WIP: AuthHandler\"\n",
      "\thttps://github.com/sigmavirus24/requests-toolbelt/pull/21\n",
      "sigmavirus24/requests-toolbelt#19: \"IPv6 Transport Adapter\"\n",
      "\thttps://github.com/sigmavirus24/requests-toolbelt/issues/19\n"
     ]
    }
   ],
   "source": [
    "for issue in github3.issues_on('sigmavirus24', 'requests-toolbelt'):\n",
    "        print('sigmavirus24/requests-toolbelt#{0.number}: \"{0.title}\"\\n\\t{0.html_url}'.format(issue))"
   ]
  },
  {
   "cell_type": "code",
   "execution_count": null,
   "metadata": {},
   "outputs": [],
   "source": []
  }
 ],
 "metadata": {
  "kernelspec": {
   "display_name": "Python 3",
   "language": "python",
   "name": "python3"
  },
  "language_info": {
   "codemirror_mode": {
    "name": "ipython",
    "version": 3
   },
   "file_extension": ".py",
   "mimetype": "text/x-python",
   "name": "python",
   "nbconvert_exporter": "python",
   "pygments_lexer": "ipython3",
   "version": "3.8.8"
  }
 },
 "nbformat": 4,
 "nbformat_minor": 1
}

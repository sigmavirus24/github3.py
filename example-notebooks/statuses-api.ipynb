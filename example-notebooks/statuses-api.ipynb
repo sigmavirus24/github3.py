{
 "cells": [
  {
   "cell_type": "markdown",
   "metadata": {},
   "source": [
    "# An Overview of the Statuses API in github3.py"
   ]
  },
  {
   "cell_type": "markdown",
   "metadata": {},
   "source": [
    "GitHub's [Statuses API][statuses] is one of the more popular recent additions to GitHub's large and all-encompassing API. This API allows you to create and list statuses like those created by popular Continuous Integration services (e.g., Jenkins, Travis CI, etc.). github3.py provides unfettered access to these functions and the following should help explore that functionality.\n",
    "\n",
    "\n",
    "[statuses]: https://developer.github.com/v3/repos/statuses/"
   ]
  },
  {
   "cell_type": "markdown",
   "metadata": {},
   "source": [
    "## Listing Statuses Associated with a Reference"
   ]
  },
  {
   "cell_type": "code",
   "execution_count": 1,
   "metadata": {},
   "outputs": [],
   "source": [
    "import github3\n",
    "\n",
    "\n",
    "repository = github3.repository('sigmavirus24', 'github3.py')"
   ]
  },
  {
   "cell_type": "markdown",
   "metadata": {},
   "source": [
    "With a repository object, we can now retrieve the statuses from a number of different commit-like objects which we can retrieve using the repository's ``commit`` method."
   ]
  },
  {
   "cell_type": "code",
   "execution_count": 2,
   "metadata": {},
   "outputs": [],
   "source": [
    "commit = repository.commit('9df71a9772d5f43e332c855a32d4689f28289989')\n",
    "tag = repository.commit('0.9.3')\n",
    "branch = repository.commit('stable/0.9')"
   ]
  },
  {
   "cell_type": "markdown",
   "metadata": {},
   "source": [
    "Each of these bindings now hold a reference to a different ``RepoCommit`` object and each has a ``statuses`` method. We can retrieve statuses about each reference and print them."
   ]
  },
  {
   "cell_type": "code",
   "execution_count": 3,
   "metadata": {},
   "outputs": [
    {
     "name": "stdout",
     "output_type": "stream",
     "text": [
      "Showing statuses for \"9df71a9772d5f43e332c855a32d4689f28289989\" (https://github.com/sigmavirus24/github3.py/commit/9df71a9772d5f43e332c855a32d4689f28289989)\n",
      "    State: success; Description: The Travis CI build passed; Context: continuous-integration/travis-ci\n",
      "    State: pending; Description: The Travis CI build is in progress; Context: continuous-integration/travis-ci\n",
      "    State: pending; Description: The Travis CI build is in progress; Context: continuous-integration/travis-ci\n",
      "Showing statuses for \"52a3f30e05cf434285e775979f01f1a8355049a7\" (https://github.com/sigmavirus24/github3.py/commit/52a3f30e05cf434285e775979f01f1a8355049a7)\n",
      "    State: success; Description: The Travis CI build passed; Context: continuous-integration/travis-ci\n",
      "    State: success; Description: The Travis CI build passed; Context: continuous-integration/travis-ci\n",
      "    State: pending; Description: The Travis CI build is in progress; Context: continuous-integration/travis-ci\n",
      "    State: pending; Description: The Travis CI build is in progress; Context: continuous-integration/travis-ci\n",
      "    State: pending; Description: The Travis CI build is in progress; Context: continuous-integration/travis-ci\n",
      "    State: pending; Description: The Travis CI build is in progress; Context: continuous-integration/travis-ci\n",
      "Showing statuses for \"6e97462ade3d8855644296e7a44b5463c7b222a6\" (https://github.com/sigmavirus24/github3.py/commit/6e97462ade3d8855644296e7a44b5463c7b222a6)\n",
      "    State: success; Description: The Travis CI build passed; Context: continuous-integration/travis-ci\n",
      "    State: pending; Description: The Travis CI build is in progress; Context: continuous-integration/travis-ci\n",
      "    State: pending; Description: The Travis CI build is in progress; Context: continuous-integration/travis-ci\n"
     ]
    }
   ],
   "source": [
    "for ref in (commit, tag, branch):\n",
    "    print('Showing statuses for \"{0.sha}\" ({0.html_url})'.format(ref))\n",
    "    for status in ref.statuses():\n",
    "        print(\"    State: {0.state}; Description: {0.description}; Context: {0.context}\".format(status))"
   ]
  },
  {
   "cell_type": "markdown",
   "metadata": {},
   "source": [
    "## Listing Combined Status Associated with a Reference"
   ]
  },
  {
   "cell_type": "code",
   "execution_count": 1,
   "metadata": {},
   "outputs": [],
   "source": [
    "import github3\n",
    "\n",
    "\n",
    "repository = github3.repository('sigmavirus24', 'github3.py')"
   ]
  },
  {
   "cell_type": "markdown",
   "metadata": {},
   "source": [
    "With a repository object, we can now retrieve the statuses from a number of different commit-like objects which we can retrieve using the repository's ``commit`` method."
   ]
  },
  {
   "cell_type": "code",
   "execution_count": 2,
   "metadata": {},
   "outputs": [],
   "source": [
    "commit = repository.commit('9df71a9772d5f43e332c855a32d4689f28289989')\n",
    "tag = repository.commit('0.9.3')\n",
    "branch = repository.commit('stable/0.9')"
   ]
  },
  {
   "cell_type": "markdown",
   "metadata": {},
   "source": [
    "Each of these bindings now hold a reference to a different ``RepoCommit`` object and each has a ``status`` method. We can retrieve the combined status about each reference and print them."
   ]
  },
  {
   "cell_type": "code",
   "execution_count": 3,
   "metadata": {},
   "outputs": [
    {
     "name": "stdout",
     "output_type": "stream",
     "text": [
      "Showing combined status for \"9df71a9772d5f43e332c855a32d4689f28289989\" (https://github.com/sigmavirus24/github3.py/commit/9df71a9772d5f43e332c855a32d4689f28289989)\n",
      "    State: success; Total count: 1\n",
      "    Statuses:\n",
      "        State: success; Description: The Travis CI build passed; Context: continuous-integration/travis-ci\n",
      "Showing combined status for \"52a3f30e05cf434285e775979f01f1a8355049a7\" (https://github.com/sigmavirus24/github3.py/commit/52a3f30e05cf434285e775979f01f1a8355049a7)\n",
      "    State: success; Total count: 1\n",
      "    Statuses:\n",
      "        State: success; Description: The Travis CI build passed; Context: continuous-integration/travis-ci\n",
      "Showing combined status for \"c4c3fc3ea3b56152303a1a856d7d7fe220b9b8b4\" (https://github.com/sigmavirus24/github3.py/commit/c4c3fc3ea3b56152303a1a856d7d7fe220b9b8b4)\n",
      "    State: failure; Total count: 1\n",
      "    Statuses:\n",
      "        State: failure; Description: The Travis CI build failed; Context: continuous-integration/travis-ci/push\n"
     ]
    }
   ],
   "source": [
    "for ref in (commit, tag, branch):\n",
    "    print('Showing combined status for \"{0.sha}\" ({0.html_url})'.format(ref))\n",
    "    combined_status = ref.status()\n",
    "    print(\"    State: {0.state}; Total count: {0.total_count}\".format(combined_status))\n",
    "    print(\"    Statuses:\")\n",
    "    for status in combined_status.statuses:\n",
    "        print(\"        State: {0.state}; Description: {0.description}; Context: {0.context}\".format(status))"
   ]
  },
  {
   "cell_type": "markdown",
   "metadata": {},
   "source": [
    "## Creating a Status for a Reference"
   ]
  },
  {
   "cell_type": "code",
   "execution_count": 1,
   "metadata": {},
   "outputs": [],
   "source": [
    "import github3\n",
    "import os\n",
    "\n",
    "g = github3.login(os.environ['GH_USERNAME'], os.environ['GH_PASSWORD'])\n",
    "repository = g.repository('sigmavirus24', 'github3.py')"
   ]
  },
  {
   "cell_type": "markdown",
   "metadata": {},
   "source": [
    "With our ``repository`` object, we can now create a status for an arbitrary commit using the ``create_status`` method."
   ]
  },
  {
   "cell_type": "code",
   "execution_count": 2,
   "metadata": {},
   "outputs": [
    {
     "name": "stdout",
     "output_type": "stream",
     "text": [
      "Status success for context default with description Documentation status\n"
     ]
    }
   ],
   "source": [
    "status = repository.create_status(sha='020cfe6422e3b2a0a5ff985c9e1c0aa921555bd8',\n",
    "                                  state='success',\n",
    "                                  description='Documentation status',\n",
    "                                  context='default')\n",
    "print('Status {0.state} for context {0.context} with description {0.description}'.format(status))"
   ]
  },
  {
   "cell_type": "markdown",
   "metadata": {},
   "source": [
    "---\n",
    "\n",
    "We now have a \"success\" status defined on our commit and can retrieve it by listing statuses (as described above)."
   ]
  }
 ],
 "metadata": {
  "kernelspec": {
   "display_name": "Python 3",
   "language": "python",
   "name": "python3"
  },
  "language_info": {
   "codemirror_mode": {
    "name": "ipython",
    "version": 3
   },
   "file_extension": ".py",
   "mimetype": "text/x-python",
   "name": "python",
   "nbconvert_exporter": "python",
   "pygments_lexer": "ipython3",
   "version": "3.8.8"
  }
 },
 "nbformat": 4,
 "nbformat_minor": 1
}
